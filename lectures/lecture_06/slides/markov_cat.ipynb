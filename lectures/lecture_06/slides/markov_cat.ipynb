{
 "cells": [
  {
   "cell_type": "code",
   "execution_count": 2,
   "metadata": {},
   "outputs": [],
   "source": [
    "import numpy as np"
   ]
  },
  {
   "cell_type": "code",
   "execution_count": 3,
   "metadata": {},
   "outputs": [
    {
     "name": "stdout",
     "output_type": "stream",
     "text": [
      "Transition matrix:\n",
      "[[0.5 0.6 0.2]\n",
      " [0.2 0.3 0.2]\n",
      " [0.3 0.1 0.6]]\n",
      "The columns of P sum to [1. 1. 1.]\n"
     ]
    }
   ],
   "source": [
    "P = np.array([\n",
    "[0.5, 0.6, 0.2],\n",
    "[0.2, 0.3, 0.2],\n",
    "[0.3, 0.1, 0.6]\n",
    "])\n",
    "print('Transition matrix:')\n",
    "print(P)\n",
    "\n",
    "print('The columns of P sum to', np.sum(P,axis=0))"
   ]
  },
  {
   "cell_type": "code",
   "execution_count": 5,
   "metadata": {},
   "outputs": [],
   "source": [
    "# Initial state:\n",
    "x_0 = np.array([1,0,0]) # at t=0, the cat is in state 1 (sleeping)\n",
    "\n",
    "def future_state(initial_state, time):\n",
    "    # Print the probability distribution of the cat\n",
    "    # after 'time', starting from 'initial_state'\n",
    "    \n",
    "    state = initial_state\n",
    "    for i in range(time):\n",
    "        state = P @ state\n",
    "        \n",
    "    print(f\"\"\"At time {time}, the cat is:\n",
    "    -sleeping with probability {state[0]}\n",
    "    - eating  with probability {state[1]}\n",
    "    - playing with probability {state[2]}\"\"\")"
   ]
  },
  {
   "cell_type": "code",
   "execution_count": 6,
   "metadata": {},
   "outputs": [
    {
     "name": "stdout",
     "output_type": "stream",
     "text": [
      "At time 1, the cat is:\n",
      "    -sleeping with probability 0.5\n",
      "    - eating  with probability 0.2\n",
      "    - playing with probability 0.3\n"
     ]
    }
   ],
   "source": [
    "future_state(x_0,1)"
   ]
  },
  {
   "cell_type": "code",
   "execution_count": 7,
   "metadata": {},
   "outputs": [
    {
     "name": "stdout",
     "output_type": "stream",
     "text": [
      "At time 0, the cat is:\n",
      "    -sleeping with probability 1\n",
      "    - eating  with probability 0\n",
      "    - playing with probability 0\n",
      "\n",
      "At time 1, the cat is:\n",
      "    -sleeping with probability 0.5\n",
      "    - eating  with probability 0.2\n",
      "    - playing with probability 0.3\n",
      "\n",
      "At time 2, the cat is:\n",
      "    -sleeping with probability 0.43\n",
      "    - eating  with probability 0.22\n",
      "    - playing with probability 0.35\n",
      "\n",
      "At time 3, the cat is:\n",
      "    -sleeping with probability 0.417\n",
      "    - eating  with probability 0.22200000000000003\n",
      "    - playing with probability 0.361\n",
      "\n",
      "At time 4, the cat is:\n",
      "    -sleeping with probability 0.4139\n",
      "    - eating  with probability 0.2222\n",
      "    - playing with probability 0.3639\n",
      "\n",
      "At time 5, the cat is:\n",
      "    -sleeping with probability 0.41305\n",
      "    - eating  with probability 0.22222000000000003\n",
      "    - playing with probability 0.36473\n",
      "\n",
      "At time 6, the cat is:\n",
      "    -sleeping with probability 0.412803\n",
      "    - eating  with probability 0.22222200000000003\n",
      "    - playing with probability 0.364975\n",
      "\n",
      "At time 7, the cat is:\n",
      "    -sleeping with probability 0.4127297\n",
      "    - eating  with probability 0.2222222\n",
      "    - playing with probability 0.3650481\n",
      "\n",
      "At time 8, the cat is:\n",
      "    -sleeping with probability 0.41270779\n",
      "    - eating  with probability 0.22222222\n",
      "    - playing with probability 0.36506998999999996\n",
      "\n",
      "At time 9, the cat is:\n",
      "    -sleeping with probability 0.41270122499999995\n",
      "    - eating  with probability 0.222222222\n",
      "    - playing with probability 0.36507655299999997\n",
      "\n"
     ]
    }
   ],
   "source": [
    "for i in range(10):\n",
    "    future_state(x_0,i)\n",
    "    print('')"
   ]
  },
  {
   "cell_type": "code",
   "execution_count": 8,
   "metadata": {},
   "outputs": [
    {
     "name": "stdout",
     "output_type": "stream",
     "text": [
      "At time 0, the cat is:\n",
      "    -sleeping with probability 0.0\n",
      "    - eating  with probability 0.5\n",
      "    - playing with probability 0.5\n",
      "\n",
      "At time 1, the cat is:\n",
      "    -sleeping with probability 0.4\n",
      "    - eating  with probability 0.25\n",
      "    - playing with probability 0.35\n",
      "\n",
      "At time 2, the cat is:\n",
      "    -sleeping with probability 0.42\n",
      "    - eating  with probability 0.22500000000000003\n",
      "    - playing with probability 0.355\n",
      "\n",
      "At time 3, the cat is:\n",
      "    -sleeping with probability 0.416\n",
      "    - eating  with probability 0.22250000000000003\n",
      "    - playing with probability 0.36150000000000004\n",
      "\n",
      "At time 4, the cat is:\n",
      "    -sleeping with probability 0.41380000000000006\n",
      "    - eating  with probability 0.22225\n",
      "    - playing with probability 0.36395\n",
      "\n"
     ]
    }
   ],
   "source": [
    "new_initial_state = np.array([0,0.5,0.5])\n",
    "\n",
    "for i in range(5):\n",
    "    future_state(new_initial_state,i)\n",
    "    print('')"
   ]
  },
  {
   "cell_type": "code",
   "execution_count": null,
   "metadata": {},
   "outputs": [],
   "source": []
  }
 ],
 "metadata": {
  "kernelspec": {
   "display_name": "Python 3",
   "language": "python",
   "name": "python3"
  },
  "language_info": {
   "codemirror_mode": {
    "name": "ipython",
    "version": 3
   },
   "file_extension": ".py",
   "mimetype": "text/x-python",
   "name": "python",
   "nbconvert_exporter": "python",
   "pygments_lexer": "ipython3",
   "version": "3.8.5"
  }
 },
 "nbformat": 4,
 "nbformat_minor": 4
}
