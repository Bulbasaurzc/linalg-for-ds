{
 "cells": [
  {
   "cell_type": "code",
   "execution_count": null,
   "metadata": {},
   "outputs": [],
   "source": [
    "import numpy as np"
   ]
  },
  {
   "cell_type": "code",
   "execution_count": null,
   "metadata": {},
   "outputs": [],
   "source": [
    "P = np.array([\n",
    "[0.5, 0.6, 0.2],\n",
    "[0.2, 0.3, 0.2],\n",
    "[0.3, 0.1, 0.6]\n",
    "])\n",
    "print('Transition matrix:')\n",
    "print(P)\n",
    "\n",
    "print('The columns of P sum to', np.sum(P,axis=0))"
   ]
  },
  {
   "cell_type": "code",
   "execution_count": null,
   "metadata": {},
   "outputs": [],
   "source": [
    "# Initial state:\n",
    "x_0 = np.array([1,0,0]) # at t=0, the cat is in state 1 (sleeping)\n",
    "\n",
    "def future_state(initial_state, time):\n",
    "    # Print the probability distribution of the cat\n",
    "    # after 'time', starting from 'initial_state'\n",
    "    \n",
    "    state = initial_state\n",
    "    for i in range(time):\n",
    "        state = P @ state\n",
    "        \n",
    "    print(f\"\"\"At time {time}, the cat is:\n",
    "    -sleeping with probability {state[0]}\n",
    "    - eating  with probability {state[1]}\n",
    "    - playing with probability {state[2]}\"\"\")"
   ]
  },
  {
   "cell_type": "code",
   "execution_count": null,
   "metadata": {},
   "outputs": [],
   "source": [
    "future_state(x_0,1)"
   ]
  },
  {
   "cell_type": "code",
   "execution_count": null,
   "metadata": {},
   "outputs": [],
   "source": [
    "for i in range(10):\n",
    "    future_state(x_0,i)\n",
    "    print('')"
   ]
  },
  {
   "cell_type": "code",
   "execution_count": null,
   "metadata": {},
   "outputs": [],
   "source": [
    "new_initial_state = np.array([0,1,0])\n",
    "\n",
    "for i in range(5):\n",
    "    future_state(new_initial_state,i)\n",
    "    print('')"
   ]
  },
  {
   "cell_type": "code",
   "execution_count": null,
   "metadata": {},
   "outputs": [],
   "source": []
  }
 ],
 "metadata": {
  "kernelspec": {
   "display_name": "Python 3",
   "language": "python",
   "name": "python3"
  },
  "language_info": {
   "codemirror_mode": {
    "name": "ipython",
    "version": 3
   },
   "file_extension": ".py",
   "mimetype": "text/x-python",
   "name": "python",
   "nbconvert_exporter": "python",
   "pygments_lexer": "ipython3",
   "version": "3.8.5"
  }
 },
 "nbformat": 4,
 "nbformat_minor": 4
}
